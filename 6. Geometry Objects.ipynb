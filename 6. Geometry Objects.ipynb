{
 "cells": [
  {
   "cell_type": "markdown",
   "metadata": {
    "collapsed": true
   },
   "source": [
    "# Geometry objects"
   ]
  },
  {
   "cell_type": "markdown",
   "metadata": {},
   "source": [
    "Use Geometry objects for workflows that modify individual geometries instead of entire feature classes."
   ]
  },
  {
   "cell_type": "markdown",
   "metadata": {},
   "source": [
    "Use Point and Array objects to construct Geometry objects, like Polylines and Polygons."
   ]
  },
  {
   "cell_type": "code",
   "execution_count": null,
   "metadata": {},
   "outputs": [],
   "source": [
    "from arcpy import Array, Point, Polyline\n",
    "\n",
    "coordinates = [[0, 0], [0, 1], [1, 1]]\n",
    "\n",
    "polyline = Polyline(Array([Point(x, y) for x, y in coordinates]), 2683)\n",
    "\n",
    "polyline"
   ]
  },
  {
   "cell_type": "code",
   "execution_count": null,
   "metadata": {},
   "outputs": [],
   "source": [
    "from arcpy import Array, Point, Polygon\n",
    "\n",
    "coordinates = [[0, 0], [0, 1], [1, 1], [1, 0], [0, 0]] # close the polygon the making the first and last points the same\n",
    "\n",
    "polygon = Polygon(Array([Point(x, y) for x, y in coordinates]), 2683)\n",
    "\n",
    "polygon"
   ]
  },
  {
   "cell_type": "markdown",
   "metadata": {},
   "source": [
    "Geometry objects have many methods and attribute. Each of these are documented at:\n",
    "\n",
    "https://pro.arcgis.com/en/pro-app/arcpy/classes/geometry.htm"
   ]
  },
  {
   "cell_type": "code",
   "execution_count": null,
   "metadata": {},
   "outputs": [],
   "source": [
    "for each in dir(polygon):\n",
    "    if not each.startswith('_'):\n",
    "        print(each)"
   ]
  },
  {
   "cell_type": "markdown",
   "metadata": {},
   "source": [
    "## Reading Geometry objects from Cursors"
   ]
  },
  {
   "cell_type": "code",
   "execution_count": null,
   "metadata": {
    "collapsed": true
   },
   "outputs": [],
   "source": [
    "import arcpy\n",
    "import os\n",
    "\n",
    "arcpy.env.workspace = os.getcwd() + \"\\\\demo.gdb\"\n",
    "arcpy.env.overwriteOutput = True"
   ]
  },
  {
   "cell_type": "markdown",
   "metadata": {},
   "source": [
    "Use the argument \"SHAPE@\" to return geometry objects from a SearchCursor."
   ]
  },
  {
   "cell_type": "code",
   "execution_count": null,
   "metadata": {},
   "outputs": [],
   "source": [
    "with arcpy.da.SearchCursor(\"canton\", [\"SHAPE@\"], where_clause=\"Canton = 'Grecia'\") as cursor:\n",
    "    geometry = cursor.next()[0]\n",
    "\n",
    "geometry"
   ]
  },
  {
   "cell_type": "code",
   "execution_count": null,
   "metadata": {},
   "outputs": [],
   "source": [
    "geometry.spatialReference.name"
   ]
  },
  {
   "cell_type": "code",
   "execution_count": null,
   "metadata": {},
   "outputs": [],
   "source": [
    "geometry.area"
   ]
  },
  {
   "cell_type": "code",
   "execution_count": null,
   "metadata": {},
   "outputs": [],
   "source": [
    "geometry.buffer(2)"
   ]
  },
  {
   "cell_type": "code",
   "execution_count": null,
   "metadata": {},
   "outputs": [],
   "source": [
    "geometry.convexHull()"
   ]
  },
  {
   "cell_type": "markdown",
   "metadata": {},
   "source": [
    "Access certain geometry attributes directly with the SearchCursor."
   ]
  },
  {
   "cell_type": "code",
   "execution_count": null,
   "metadata": {},
   "outputs": [],
   "source": [
    "with arcpy.da.SearchCursor(\"canton\", [\"SHAPE@XY\"], where_clause=\"Canton = 'Grecia'\") as cursor:\n",
    "    geometry_xy = cursor.next()[0]\n",
    "\n",
    "geometry_xy"
   ]
  },
  {
   "cell_type": "code",
   "execution_count": null,
   "metadata": {},
   "outputs": [],
   "source": [
    "import json\n",
    "\n",
    "with arcpy.da.SearchCursor(\"canton\", [\"SHAPE@JSON\"], where_clause=\"Canton = 'Grecia'\") as cursor:\n",
    "    geometry_json = json.loads(cursor.next()[0])\n",
    "\n",
    "geometry_json"
   ]
  },
  {
   "cell_type": "markdown",
   "metadata": {},
   "source": [
    "---\n",
    "https://pro.arcgis.com/en/pro-app/arcpy/get-started/reading-geometries.htm\n",
    "\n",
    "https://pro.arcgis.com/en/pro-app/arcpy/get-started/writing-geometries.htm"
   ]
  }
 ],
 "metadata": {
  "kernelspec": {
   "display_name": "Python 3",
   "language": "python",
   "name": "python3"
  },
  "language_info": {
   "codemirror_mode": {
    "name": "ipython",
    "version": 3
   },
   "file_extension": ".py",
   "mimetype": "text/x-python",
   "name": "python",
   "nbconvert_exporter": "python",
   "pygments_lexer": "ipython3",
   "version": "3.5.3"
  }
 },
 "nbformat": 4,
 "nbformat_minor": 2
}
