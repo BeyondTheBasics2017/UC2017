{
 "cells": [
  {
   "cell_type": "markdown",
   "metadata": {},
   "source": [
    "# Cursors\n",
    "* arcpy object which iterates over rows in a table and allows SQL queries.\n",
    "* Remember: most GIS data is table driven.\n",
    "* Allows you to search, append, and delete specific data in your tables.\n",
    "* Used to exist outside the Data Access module until 10.1, then was moved to arcpy.da.\n",
    "* Old cursors still exist, but da module has more options.\n",
    "\n",
    "### Search Cursor\n",
    "* Read-only access to a table; you can only see the data, not change it.\n",
    "* Great for reviewing data or extracting it into new data structures prior to updating it.\n"
   ]
  },
  {
   "cell_type": "code",
   "execution_count": null,
   "metadata": {
    "collapsed": true
   },
   "outputs": [],
   "source": [
    "# Demonstrate retrieving tuples from a table\n",
    "import os\n",
    "from arcpy.da import SearchCursor\n",
    "\n",
    "# Set the path to your data\n",
    "cat_table = os.path.join(os.getcwd(), \"demo.gdb\\\\Redlands_Cat_Sightings\")\n",
    "\n",
    "# Run the cursor to print the data\n",
    "table_data = SearchCursor(cat_table, \"*\")\n",
    "for row in table_data:\n",
    "    print(row)"
   ]
  },
  {
   "cell_type": "markdown",
   "metadata": {},
   "source": [
    "Utilize a SQL Query."
   ]
  },
  {
   "cell_type": "code",
   "execution_count": null,
   "metadata": {
    "collapsed": true
   },
   "outputs": [],
   "source": [
    "import os\n",
    "from arcpy.da import SearchCursor\n",
    "\n",
    "cat_table = os.path.join(os.getcwd(), \"demo.gdb\\\\Redlands_Cat_Sightings\")\n",
    "fields = \"*\"\n",
    "sql_query = \"TYPE = 'Orange'\"\n",
    "with SearchCursor(cat_table, fields, sql_query) as table_data:\n",
    "    for row in table_data:\n",
    "        print(row)"
   ]
  },
  {
   "cell_type": "markdown",
   "metadata": {},
   "source": [
    "### Insert Cursor\n",
    "* Write access to a table, allows you to insert a new row of data into a table."
   ]
  },
  {
   "cell_type": "code",
   "execution_count": null,
   "metadata": {
    "collapsed": true
   },
   "outputs": [],
   "source": [
    "from arcpy.da import InsertCursor\n",
    "\n",
    "# Set the path to your data\n",
    "cat_table = os.path.join(os.getcwd(), \"demo.gdb\\\\Redlands_Cat_Sightings\")\n",
    "\n",
    "rows = [\n",
    "    (6, (-13045960.543499999, 4036405.2462000027), 'Hairless', 1, 0),\n",
    "    (7, (-13045952.4474, 4036413.342299998), 'Raccoon', 4, 0)\n",
    "]\n",
    "\n",
    "# Run the cursor to insert new rows\n",
    "fields = \"*\"\n",
    "with InsertCursor(cat_table, fields) as table_data:\n",
    "    for row in rows:\n",
    "        table_data.insertRow(row)  # Run cell 1 to see the new rows"
   ]
  },
  {
   "cell_type": "markdown",
   "metadata": {},
   "source": [
    "### Update Cursor\n",
    "* Write access to a table; allows you to change data in a row."
   ]
  },
  {
   "cell_type": "code",
   "execution_count": null,
   "metadata": {
    "collapsed": true
   },
   "outputs": [],
   "source": [
    "from arcpy.da import UpdateCursor\n",
    "\n",
    "fields = \"*\"\n",
    "sql_query = \"TYPE = 'Virtual'\"\n",
    "with UpdateCursor(cat_table, fields, sql_query) as table_data:\n",
    "    for row in table_data:\n",
    "        table_data.deleteRow()  # takes no argument(s), ensure your sql query is correct"
   ]
  },
  {
   "cell_type": "markdown",
   "metadata": {
    "collapsed": true
   },
   "source": [
    "---\n",
    "Helpful Links\n",
    "\n",
    "Cursors\n",
    "http://pro.arcgis.com/en/pro-app/arcpy/get-started/data-access-using-cursors.htm\n",
    "\n",
    "Building SQL Expressions\n",
    "http://pro.arcgis.com/en/pro-app/help/mapping/navigation/sql-reference-for-elements-used-in-query-expressions.htm\n",
    "\n"
   ]
  },
  {
   "cell_type": "code",
   "execution_count": null,
   "metadata": {
    "collapsed": true
   },
   "outputs": [],
   "source": []
  }
 ],
 "metadata": {
  "kernelspec": {
   "display_name": "Python 3",
   "language": "python",
   "name": "python3"
  },
  "language_info": {
   "codemirror_mode": {
    "name": "ipython",
    "version": 3
   },
   "file_extension": ".py",
   "mimetype": "text/x-python",
   "name": "python",
   "nbconvert_exporter": "python",
   "pygments_lexer": "ipython3",
   "version": "3.5.3"
  }
 },
 "nbformat": 4,
 "nbformat_minor": 2
}
