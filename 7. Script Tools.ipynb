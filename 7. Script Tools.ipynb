{
 "cells": [
  {
   "cell_type": "markdown",
   "metadata": {
    "collapsed": true
   },
   "source": [
    "# Script Tools"
   ]
  },
  {
   "cell_type": "markdown",
   "metadata": {},
   "source": [
    "* Use ArcPy and Python to create your own GP tools\n",
    "* Customize the behavior and functionality\n",
    "* Publish as a service to share over a network"
   ]
  },
  {
   "cell_type": "code",
   "execution_count": null,
   "metadata": {},
   "outputs": [],
   "source": [
    "import arcpy\n",
    "import os\n",
    "\n",
    "cat_table = os.path.join(os.getcwd(), \"demo.gdb\\\\Redlands_Cat_Sightings\")\n",
    "field_names = ['OID@', 'Type', 'Size']\n",
    "where_clause = 'Friendly = 1'\n",
    "output = str()\n",
    "\n",
    "with arcpy.da.SearchCursor(cat_table, field_names, where_clause) as sc:\n",
    "    output += '\\nFriendly Cats:\\n'\n",
    "    for row in sc:\n",
    "        output += 'OID: {0} -- {1} cat\\n'.format(*row)\n",
    "print(output)"
   ]
  },
  {
   "cell_type": "markdown",
   "metadata": {},
   "source": [
    "### Best Practices\n",
    "* Get basic functionality to work in a standalone script/Jupyter Notebook, then develop in Pro/Desktop\n",
    "* Create a full user experience with warnings and errors\n",
    "* Understand the limitations and differences when publishing as a service"
   ]
  },
  {
   "cell_type": "markdown",
   "metadata": {
    "collapsed": true
   },
   "source": [
    "---\n",
    "Helpful Link\n",
    "\n",
    "http://pro.arcgis.com/en/pro-app/help/analysis/geoprocessing/basics/create-a-python-script-tool.htm"
   ]
  }
 ],
 "metadata": {
  "kernelspec": {
   "display_name": "Python 3",
   "language": "python",
   "name": "python3"
  },
  "language_info": {
   "codemirror_mode": {
    "name": "ipython",
    "version": 3
   },
   "file_extension": ".py",
   "mimetype": "text/x-python",
   "name": "python",
   "nbconvert_exporter": "python",
   "pygments_lexer": "ipython3",
   "version": "3.5.3"
  }
 },
 "nbformat": 4,
 "nbformat_minor": 2
}
